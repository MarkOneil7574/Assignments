{
 "cells": [
  {
   "cell_type": "code",
   "execution_count": 2,
   "metadata": {},
   "outputs": [],
   "source": [
    "import pandas as pd\n",
    "import numpy as np\n",
    "from scipy import stats\n",
    "import matplotlib.pyplot as plt\n"
   ]
  },
  {
   "cell_type": "markdown",
   "metadata": {},
   "source": [
    "# EXERCISE 1. "
   ]
  },
  {
   "cell_type": "code",
   "execution_count": 4,
   "metadata": {},
   "outputs": [
    {
     "data": {
      "text/html": [
       "<div>\n",
       "<style scoped>\n",
       "    .dataframe tbody tr th:only-of-type {\n",
       "        vertical-align: middle;\n",
       "    }\n",
       "\n",
       "    .dataframe tbody tr th {\n",
       "        vertical-align: top;\n",
       "    }\n",
       "\n",
       "    .dataframe thead th {\n",
       "        text-align: right;\n",
       "    }\n",
       "</style>\n",
       "<table border=\"1\" class=\"dataframe\">\n",
       "  <thead>\n",
       "    <tr style=\"text-align: right;\">\n",
       "      <th></th>\n",
       "      <th>0.01</th>\n",
       "      <th>0.05</th>\n",
       "      <th>0.10</th>\n",
       "      <th>0.20</th>\n",
       "      <th>0.30</th>\n",
       "      <th>0.40</th>\n",
       "      <th>0.50</th>\n",
       "      <th>0.60</th>\n",
       "      <th>0.70</th>\n",
       "      <th>0.80</th>\n",
       "      <th>0.90</th>\n",
       "      <th>0.95</th>\n",
       "      <th>0.99</th>\n",
       "    </tr>\n",
       "  </thead>\n",
       "  <tbody>\n",
       "    <tr>\n",
       "      <th>0</th>\n",
       "      <td>0.904</td>\n",
       "      <td>0.599</td>\n",
       "      <td>0.349</td>\n",
       "      <td>0.107</td>\n",
       "      <td>0.028</td>\n",
       "      <td>0.006</td>\n",
       "      <td>0.001</td>\n",
       "      <td>0.000</td>\n",
       "      <td>0.000</td>\n",
       "      <td>0.000</td>\n",
       "      <td>0.000</td>\n",
       "      <td>0.000</td>\n",
       "      <td>0.000</td>\n",
       "    </tr>\n",
       "    <tr>\n",
       "      <th>1</th>\n",
       "      <td>0.996</td>\n",
       "      <td>0.914</td>\n",
       "      <td>0.736</td>\n",
       "      <td>0.376</td>\n",
       "      <td>0.149</td>\n",
       "      <td>0.046</td>\n",
       "      <td>0.011</td>\n",
       "      <td>0.002</td>\n",
       "      <td>0.000</td>\n",
       "      <td>0.000</td>\n",
       "      <td>0.000</td>\n",
       "      <td>0.000</td>\n",
       "      <td>0.000</td>\n",
       "    </tr>\n",
       "    <tr>\n",
       "      <th>2</th>\n",
       "      <td>1.000</td>\n",
       "      <td>0.988</td>\n",
       "      <td>0.930</td>\n",
       "      <td>0.678</td>\n",
       "      <td>0.383</td>\n",
       "      <td>0.167</td>\n",
       "      <td>0.055</td>\n",
       "      <td>0.012</td>\n",
       "      <td>0.002</td>\n",
       "      <td>0.000</td>\n",
       "      <td>0.000</td>\n",
       "      <td>0.000</td>\n",
       "      <td>0.000</td>\n",
       "    </tr>\n",
       "    <tr>\n",
       "      <th>3</th>\n",
       "      <td>1.000</td>\n",
       "      <td>0.999</td>\n",
       "      <td>0.987</td>\n",
       "      <td>0.879</td>\n",
       "      <td>0.650</td>\n",
       "      <td>0.382</td>\n",
       "      <td>0.172</td>\n",
       "      <td>0.055</td>\n",
       "      <td>0.011</td>\n",
       "      <td>0.001</td>\n",
       "      <td>0.000</td>\n",
       "      <td>0.000</td>\n",
       "      <td>0.000</td>\n",
       "    </tr>\n",
       "    <tr>\n",
       "      <th>4</th>\n",
       "      <td>1.000</td>\n",
       "      <td>1.000</td>\n",
       "      <td>0.998</td>\n",
       "      <td>0.967</td>\n",
       "      <td>0.850</td>\n",
       "      <td>0.633</td>\n",
       "      <td>0.377</td>\n",
       "      <td>0.166</td>\n",
       "      <td>0.047</td>\n",
       "      <td>0.006</td>\n",
       "      <td>0.000</td>\n",
       "      <td>0.000</td>\n",
       "      <td>0.000</td>\n",
       "    </tr>\n",
       "    <tr>\n",
       "      <th>5</th>\n",
       "      <td>1.000</td>\n",
       "      <td>1.000</td>\n",
       "      <td>1.000</td>\n",
       "      <td>0.994</td>\n",
       "      <td>0.953</td>\n",
       "      <td>0.834</td>\n",
       "      <td>0.623</td>\n",
       "      <td>0.367</td>\n",
       "      <td>0.150</td>\n",
       "      <td>0.033</td>\n",
       "      <td>0.002</td>\n",
       "      <td>0.000</td>\n",
       "      <td>0.000</td>\n",
       "    </tr>\n",
       "    <tr>\n",
       "      <th>6</th>\n",
       "      <td>1.000</td>\n",
       "      <td>1.000</td>\n",
       "      <td>1.000</td>\n",
       "      <td>0.999</td>\n",
       "      <td>0.989</td>\n",
       "      <td>0.945</td>\n",
       "      <td>0.828</td>\n",
       "      <td>0.618</td>\n",
       "      <td>0.350</td>\n",
       "      <td>0.121</td>\n",
       "      <td>0.013</td>\n",
       "      <td>0.001</td>\n",
       "      <td>0.000</td>\n",
       "    </tr>\n",
       "    <tr>\n",
       "      <th>7</th>\n",
       "      <td>1.000</td>\n",
       "      <td>1.000</td>\n",
       "      <td>1.000</td>\n",
       "      <td>1.000</td>\n",
       "      <td>0.998</td>\n",
       "      <td>0.988</td>\n",
       "      <td>0.945</td>\n",
       "      <td>0.833</td>\n",
       "      <td>0.617</td>\n",
       "      <td>0.322</td>\n",
       "      <td>0.070</td>\n",
       "      <td>0.012</td>\n",
       "      <td>0.000</td>\n",
       "    </tr>\n",
       "    <tr>\n",
       "      <th>8</th>\n",
       "      <td>1.000</td>\n",
       "      <td>1.000</td>\n",
       "      <td>1.000</td>\n",
       "      <td>1.000</td>\n",
       "      <td>1.000</td>\n",
       "      <td>0.998</td>\n",
       "      <td>0.989</td>\n",
       "      <td>0.954</td>\n",
       "      <td>0.851</td>\n",
       "      <td>0.624</td>\n",
       "      <td>0.264</td>\n",
       "      <td>0.086</td>\n",
       "      <td>0.004</td>\n",
       "    </tr>\n",
       "    <tr>\n",
       "      <th>9</th>\n",
       "      <td>1.000</td>\n",
       "      <td>1.000</td>\n",
       "      <td>1.000</td>\n",
       "      <td>1.000</td>\n",
       "      <td>1.000</td>\n",
       "      <td>1.000</td>\n",
       "      <td>0.999</td>\n",
       "      <td>0.994</td>\n",
       "      <td>0.972</td>\n",
       "      <td>0.893</td>\n",
       "      <td>0.651</td>\n",
       "      <td>0.401</td>\n",
       "      <td>0.096</td>\n",
       "    </tr>\n",
       "  </tbody>\n",
       "</table>\n",
       "</div>"
      ],
      "text/plain": [
       "    0.01   0.05   0.10   0.20   0.30   0.40   0.50   0.60   0.70   0.80  \\\n",
       "0  0.904  0.599  0.349  0.107  0.028  0.006  0.001  0.000  0.000  0.000   \n",
       "1  0.996  0.914  0.736  0.376  0.149  0.046  0.011  0.002  0.000  0.000   \n",
       "2  1.000  0.988  0.930  0.678  0.383  0.167  0.055  0.012  0.002  0.000   \n",
       "3  1.000  0.999  0.987  0.879  0.650  0.382  0.172  0.055  0.011  0.001   \n",
       "4  1.000  1.000  0.998  0.967  0.850  0.633  0.377  0.166  0.047  0.006   \n",
       "5  1.000  1.000  1.000  0.994  0.953  0.834  0.623  0.367  0.150  0.033   \n",
       "6  1.000  1.000  1.000  0.999  0.989  0.945  0.828  0.618  0.350  0.121   \n",
       "7  1.000  1.000  1.000  1.000  0.998  0.988  0.945  0.833  0.617  0.322   \n",
       "8  1.000  1.000  1.000  1.000  1.000  0.998  0.989  0.954  0.851  0.624   \n",
       "9  1.000  1.000  1.000  1.000  1.000  1.000  0.999  0.994  0.972  0.893   \n",
       "\n",
       "    0.90   0.95   0.99  \n",
       "0  0.000  0.000  0.000  \n",
       "1  0.000  0.000  0.000  \n",
       "2  0.000  0.000  0.000  \n",
       "3  0.000  0.000  0.000  \n",
       "4  0.000  0.000  0.000  \n",
       "5  0.002  0.000  0.000  \n",
       "6  0.013  0.001  0.000  \n",
       "7  0.070  0.012  0.000  \n",
       "8  0.264  0.086  0.004  \n",
       "9  0.651  0.401  0.096  "
      ]
     },
     "execution_count": 4,
     "metadata": {},
     "output_type": "execute_result"
    }
   ],
   "source": [
    "p = [0.01,0.05,0.10,0.20,0.30,0.40,0.50,0.60,0.70,0.80,0.90,0.95,0.99]\n",
    "n = 10\n",
    "dist = []\n",
    "Dist = []\n",
    "for j in p:\n",
    "    binomDist = stats.binom(n,j)\n",
    "    for i in range(n):\n",
    "        dist.append(\"{:.3f}\".format(binomDist.cdf(i)))\n",
    "    Dist.append(dist)\n",
    "    dist = []\n",
    "\n",
    "DistF = pd.DataFrame(Dist,index = p).transpose()\n",
    "DistF\n"
   ]
  },
  {
   "cell_type": "markdown",
   "metadata": {},
   "source": [
    "# EXERCISE 2. "
   ]
  },
  {
   "cell_type": "code",
   "execution_count": 5,
   "metadata": {},
   "outputs": [
    {
     "data": {
      "text/plain": [
       "0.12106082100000018"
      ]
     },
     "execution_count": 5,
     "metadata": {},
     "output_type": "execute_result"
    }
   ],
   "source": [
    "# A salesperson has found that the probability of a sale on a single contact is approximately 0.3. If the salesperson contacts 10 prospects, what is the approximate probability of making at least one sale?\n",
    "# P = 0.3 - n = 10 - x = 1\n",
    "stats.binom.pmf(1,10,0.3)\n"
   ]
  },
  {
   "cell_type": "code",
   "execution_count": 13,
   "metadata": {},
   "outputs": [
    {
     "data": {
      "text/plain": [
       "0.17187500000000014"
      ]
     },
     "execution_count": 13,
     "metadata": {},
     "output_type": "execute_result"
    }
   ],
   "source": [
    "# Ten coins are tossed simultaneously. Find the probability of getting\n",
    "# (i) at least seven heads'''\n",
    "stats.binom.pmf(7,10,0.5) + stats.binom.pmf(8,10,0.5) +stats.binom.pmf(9,10,0.5)+stats.binom.pmf(10,10,0.5)"
   ]
  },
  {
   "cell_type": "code",
   "execution_count": 17,
   "metadata": {},
   "outputs": [
    {
     "data": {
      "text/plain": [
       "0.11718750000000014"
      ]
     },
     "execution_count": 17,
     "metadata": {},
     "output_type": "execute_result"
    }
   ],
   "source": [
    "# (ii) exactly seven heads\n",
    "stats.binom.pmf(7,10,0.5)"
   ]
  },
  {
   "cell_type": "code",
   "execution_count": 19,
   "metadata": {},
   "outputs": [
    {
     "data": {
      "text/plain": [
       "0.9443359375000009"
      ]
     },
     "execution_count": 19,
     "metadata": {},
     "output_type": "execute_result"
    }
   ],
   "source": [
    "# (iii)at most seven heads\n",
    "t = 0\n",
    "for i in range(1,8,1):\n",
    "     t = t + stats.binom.pmf(i,10,0.5)\n",
    "t"
   ]
  },
  {
   "cell_type": "markdown",
   "metadata": {},
   "source": [
    "# EXERCISE 3. "
   ]
  },
  {
   "cell_type": "code",
   "execution_count": 21,
   "metadata": {},
   "outputs": [
    {
     "data": {
      "text/plain": [
       "0.006737946999085467"
      ]
     },
     "execution_count": 21,
     "metadata": {},
     "output_type": "execute_result"
    }
   ],
   "source": [
    "# A type of tree has seedlings dispersed in a large area with a mean density of five seedlings per square yard. What is the probability that none of ten \n",
    "# randomly selected  one-square yard regions have seedlings?\n",
    "# n = 10 , x = 0  , lamda = 5\n",
    "poissonDist = stats.poisson(5)\n",
    "poissonDist.pmf(0)"
   ]
  },
  {
   "cell_type": "code",
   "execution_count": 22,
   "metadata": {},
   "outputs": [
    {
     "data": {
      "text/plain": [
       "0.09022352215774178"
      ]
     },
     "execution_count": 22,
     "metadata": {},
     "output_type": "execute_result"
    }
   ],
   "source": [
    "# Let Y denote a random variable that has a Poisson distribution with mean λ = 2. Find\n",
    "# (i) P(Y = 4)\n",
    "poissonDist = stats.poisson(2)\n",
    "poissonDist.pmf(4)\n"
   ]
  },
  {
   "cell_type": "code",
   "execution_count": 26,
   "metadata": {},
   "outputs": [
    {
     "data": {
      "text/plain": [
       "0.14287653950145296"
      ]
     },
     "execution_count": 26,
     "metadata": {},
     "output_type": "execute_result"
    }
   ],
   "source": [
    "# (ii) P(Y ≥ 4)\n",
    "t = 0\n",
    "poissonDist = stats.poisson(2)\n",
    "for i in range(4,50,1):\n",
    "     t = t + poissonDist.pmf(i)\n",
    "t\n"
   ]
  },
  {
   "cell_type": "code",
   "execution_count": 27,
   "metadata": {},
   "outputs": [
    {
     "data": {
      "text/plain": [
       "0.7217881772619343"
      ]
     },
     "execution_count": 27,
     "metadata": {},
     "output_type": "execute_result"
    }
   ],
   "source": [
    "# (iii)P(Y < 4)\n",
    "t = 0\n",
    "poissonDist = stats.poisson(2)\n",
    "for i in range(1,4,1):\n",
    "     t = t + poissonDist.pmf(i)\n",
    "t"
   ]
  },
  {
   "cell_type": "code",
   "execution_count": 28,
   "metadata": {},
   "outputs": [
    {
     "data": {
      "text/plain": [
       "0.5413411329464507"
      ]
     },
     "execution_count": 28,
     "metadata": {},
     "output_type": "execute_result"
    }
   ],
   "source": [
    "# (iv)P(Y ≥ 4 | Y ≥ 2 )\n",
    "t = 0\n",
    "poissonDist = stats.poisson(2)\n",
    "for i in range(2,5,1):\n",
    "     t = t + poissonDist.pmf(i)\n",
    "t"
   ]
  },
  {
   "cell_type": "markdown",
   "metadata": {},
   "source": [
    "# EXERCISE 4. "
   ]
  },
  {
   "cell_type": "code",
   "execution_count": 7,
   "metadata": {},
   "outputs": [
    {
     "name": "stdout",
     "output_type": "stream",
     "text": [
      "binomial probabilities for Y = 0 :    0.3584859224085422\n",
      "binomial probabilities for Y = 1 :    0.3773536025353075\n",
      "binomial probabilities for Y = 2 :    0.18867680126765365\n",
      "binomial probabilities for Y = 3 :    0.05958214776873269\n",
      "binomial probabilities for Y = 4 :    0.013327585685111255\n"
     ]
    }
   ],
   "source": [
    "# Consider binomial experiment for n = 20, p = .05. \n",
    "# Calculate the binomial probabilities for Y = 0, 1, 2, 3, and 4.\n",
    "for i in range(0,5):\n",
    "    print(\"binomial probabilities for Y = \" +str(i)+\" :   \" , str(stats.binom.pmf(i,20,0.05)))\n"
   ]
  },
  {
   "cell_type": "code",
   "execution_count": 8,
   "metadata": {},
   "outputs": [
    {
     "name": "stdout",
     "output_type": "stream",
     "text": [
      "Poission probabilities for Y = 0 :    0.36787944117144233\n",
      "Poission probabilities for Y = 1 :    0.36787944117144233\n",
      "Poission probabilities for Y = 2 :    0.18393972058572114\n",
      "Poission probabilities for Y = 3 :    0.06131324019524039\n",
      "Poission probabilities for Y = 4 :    0.015328310048810101\n"
     ]
    }
   ],
   "source": [
    "# Calculate the same probabilities by using the Poisson approximation with λ = np. Compare.\n",
    "poissonDist = stats.poisson(20*0.05)\n",
    "for i in range(0,5):\n",
    "    print(\"Poission probabilities for Y = \" +str(i)+\" :   \" , str(poissonDist.pmf(i)))"
   ]
  },
  {
   "cell_type": "code",
   "execution_count": null,
   "metadata": {},
   "outputs": [],
   "source": []
  }
 ],
 "metadata": {
  "kernelspec": {
   "display_name": "Python 3",
   "language": "python",
   "name": "python3"
  },
  "language_info": {
   "codemirror_mode": {
    "name": "ipython",
    "version": 3
   },
   "file_extension": ".py",
   "mimetype": "text/x-python",
   "name": "python",
   "nbconvert_exporter": "python",
   "pygments_lexer": "ipython3",
   "version": "3.7.6"
  }
 },
 "nbformat": 4,
 "nbformat_minor": 4
}
